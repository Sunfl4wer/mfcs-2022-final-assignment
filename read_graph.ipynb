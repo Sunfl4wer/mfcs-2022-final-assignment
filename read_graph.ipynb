{
 "cells": [
  {
   "cell_type": "code",
   "execution_count": 1,
   "metadata": {
    "collapsed": true
   },
   "outputs": [],
   "source": [
    "import igraph as ig\n",
    "import pandas as pd\n",
    "import numpy as np"
   ]
  },
  {
   "cell_type": "code",
   "execution_count": 2,
   "outputs": [
    {
     "name": "stderr",
     "output_type": "stream",
     "text": [
      "C:\\Users\\dinhg\\AppData\\Local\\Temp\\ipykernel_16808\\819255535.py:1: RuntimeWarning: Unterminated entity or stray & character found, will be returned verbatim. at src/io/gml.c:147\n",
      "  g = ig.Graph.Read_GML('football.gml')\n"
     ]
    }
   ],
   "source": [
    "g = ig.Graph.Read_GML('football.gml')\n",
    "ct = g.community_edge_betweenness(clusters=12, directed=False, weights=None)\n",
    "edge_df = pd.DataFrame(data=g.get_edge_dataframe())\n",
    "vertex_df = pd.DataFrame(data=g.get_vertex_dataframe())"
   ],
   "metadata": {
    "collapsed": false
   }
  },
  {
   "cell_type": "code",
   "execution_count": 3,
   "outputs": [
    {
     "data": {
      "text/plain": "         source  target\nedge ID                \n0             0       1\n1             2       3\n2             0       4\n3             4       5\n4             3       5",
      "text/html": "<div>\n<style scoped>\n    .dataframe tbody tr th:only-of-type {\n        vertical-align: middle;\n    }\n\n    .dataframe tbody tr th {\n        vertical-align: top;\n    }\n\n    .dataframe thead th {\n        text-align: right;\n    }\n</style>\n<table border=\"1\" class=\"dataframe\">\n  <thead>\n    <tr style=\"text-align: right;\">\n      <th></th>\n      <th>source</th>\n      <th>target</th>\n    </tr>\n    <tr>\n      <th>edge ID</th>\n      <th></th>\n      <th></th>\n    </tr>\n  </thead>\n  <tbody>\n    <tr>\n      <th>0</th>\n      <td>0</td>\n      <td>1</td>\n    </tr>\n    <tr>\n      <th>1</th>\n      <td>2</td>\n      <td>3</td>\n    </tr>\n    <tr>\n      <th>2</th>\n      <td>0</td>\n      <td>4</td>\n    </tr>\n    <tr>\n      <th>3</th>\n      <td>4</td>\n      <td>5</td>\n    </tr>\n    <tr>\n      <th>4</th>\n      <td>3</td>\n      <td>5</td>\n    </tr>\n  </tbody>\n</table>\n</div>"
     },
     "execution_count": 3,
     "metadata": {},
     "output_type": "execute_result"
    }
   ],
   "source": [
    "edge_df.head()"
   ],
   "metadata": {
    "collapsed": false
   }
  },
  {
   "cell_type": "code",
   "execution_count": 4,
   "outputs": [
    {
     "data": {
      "text/plain": "            id         label  value\nvertex ID                          \n0          0.0  BrighamYoung    7.0\n1          1.0  FloridaState    0.0\n2          2.0          Iowa    2.0\n3          3.0   KansasState    3.0\n4          4.0     NewMexico    7.0",
      "text/html": "<div>\n<style scoped>\n    .dataframe tbody tr th:only-of-type {\n        vertical-align: middle;\n    }\n\n    .dataframe tbody tr th {\n        vertical-align: top;\n    }\n\n    .dataframe thead th {\n        text-align: right;\n    }\n</style>\n<table border=\"1\" class=\"dataframe\">\n  <thead>\n    <tr style=\"text-align: right;\">\n      <th></th>\n      <th>id</th>\n      <th>label</th>\n      <th>value</th>\n    </tr>\n    <tr>\n      <th>vertex ID</th>\n      <th></th>\n      <th></th>\n      <th></th>\n    </tr>\n  </thead>\n  <tbody>\n    <tr>\n      <th>0</th>\n      <td>0.0</td>\n      <td>BrighamYoung</td>\n      <td>7.0</td>\n    </tr>\n    <tr>\n      <th>1</th>\n      <td>1.0</td>\n      <td>FloridaState</td>\n      <td>0.0</td>\n    </tr>\n    <tr>\n      <th>2</th>\n      <td>2.0</td>\n      <td>Iowa</td>\n      <td>2.0</td>\n    </tr>\n    <tr>\n      <th>3</th>\n      <td>3.0</td>\n      <td>KansasState</td>\n      <td>3.0</td>\n    </tr>\n    <tr>\n      <th>4</th>\n      <td>4.0</td>\n      <td>NewMexico</td>\n      <td>7.0</td>\n    </tr>\n  </tbody>\n</table>\n</div>"
     },
     "execution_count": 4,
     "metadata": {},
     "output_type": "execute_result"
    }
   ],
   "source": [
    "vertex_df.head()"
   ],
   "metadata": {
    "collapsed": false
   }
  },
  {
   "cell_type": "markdown",
   "source": [
    "# Transform graph to square matrix dataframe\n",
    "#### value in each cell of data frame is value of row node  * 100 + value of col node\n",
    "#### => có thể truy ngược được community of row node and col node by  % 100\n",
    "#### edge hasn't existed have cell value = -1, have edge node value = 0"
   ],
   "metadata": {
    "collapsed": false
   }
  },
  {
   "cell_type": "code",
   "execution_count": 5,
   "outputs": [],
   "source": [
    "graph_matrix_np = np.full((115, 115), -1)\n",
    "for idx in edge_df.index:\n",
    "    source_node = edge_df['source'][idx]\n",
    "    target_node = edge_df['target'][idx]\n",
    "    source_node_value = vertex_df['value'][source_node]\n",
    "    target_node_value = vertex_df['value'][target_node]\n",
    "    graph_matrix_np[source_node][target_node] = source_node_value*100 + target_node_value\n",
    "    graph_matrix_np[target_node][source_node] = source_node_value * 100 + target_node_value\n",
    "\n",
    "graph_matrix_df = pd.DataFrame(data=graph_matrix_np, columns=vertex_df['label'], index=vertex_df.index)"
   ],
   "metadata": {
    "collapsed": false
   }
  },
  {
   "cell_type": "code",
   "execution_count": 6,
   "outputs": [
    {
     "data": {
      "text/plain": "label      BrighamYoung  FloridaState  Iowa  KansasState  NewMexico  \\\nvertex ID                                                             \n0                    -1           700    -1           -1        707   \n1                   700            -1    -1           -1         -1   \n2                    -1            -1    -1          203         -1   \n3                    -1            -1   203           -1         -1   \n4                   707            -1    -1           -1         -1   \n\nlabel      TexasTech  PennState  SouthernCalifornia  ArizonaState  \\\nvertex ID                                                           \n0                 -1         -1                  -1            -1   \n1                 -1         -1                  -1            -1   \n2                 -1        202                  -1            -1   \n3                303         -1                  -1            -1   \n4                703         -1                  -1            -1   \n\nlabel      SanDiegoState  ...  WakeForest  Indiana  OklahomaState  \\\nvertex ID                 ...                                       \n0                    707  ...          -1       -1             -1   \n1                     -1  ...           0       -1             -1   \n2                     -1  ...          -1      202             -1   \n3                     -1  ...          -1       -1             -1   \n4                    707  ...          -1       -1             -1   \n\nlabel      OregonState  Maryland  TexasChristian  California  \\\nvertex ID                                                      \n0                   -1        -1              -1          -1   \n1                   -1         0              -1          -1   \n2                   -1        -1              -1          -1   \n3                   -1        -1              -1          -1   \n4                  708        -1              -1          -1   \n\nlabel      AlabamaBirmingham  Arkansas  Hawaii  \nvertex ID                                       \n0                         -1        -1      -1  \n1                         -1        -1      -1  \n2                         -1        -1      -1  \n3                         -1        -1      -1  \n4                         -1        -1      -1  \n\n[5 rows x 115 columns]",
      "text/html": "<div>\n<style scoped>\n    .dataframe tbody tr th:only-of-type {\n        vertical-align: middle;\n    }\n\n    .dataframe tbody tr th {\n        vertical-align: top;\n    }\n\n    .dataframe thead th {\n        text-align: right;\n    }\n</style>\n<table border=\"1\" class=\"dataframe\">\n  <thead>\n    <tr style=\"text-align: right;\">\n      <th>label</th>\n      <th>BrighamYoung</th>\n      <th>FloridaState</th>\n      <th>Iowa</th>\n      <th>KansasState</th>\n      <th>NewMexico</th>\n      <th>TexasTech</th>\n      <th>PennState</th>\n      <th>SouthernCalifornia</th>\n      <th>ArizonaState</th>\n      <th>SanDiegoState</th>\n      <th>...</th>\n      <th>WakeForest</th>\n      <th>Indiana</th>\n      <th>OklahomaState</th>\n      <th>OregonState</th>\n      <th>Maryland</th>\n      <th>TexasChristian</th>\n      <th>California</th>\n      <th>AlabamaBirmingham</th>\n      <th>Arkansas</th>\n      <th>Hawaii</th>\n    </tr>\n    <tr>\n      <th>vertex ID</th>\n      <th></th>\n      <th></th>\n      <th></th>\n      <th></th>\n      <th></th>\n      <th></th>\n      <th></th>\n      <th></th>\n      <th></th>\n      <th></th>\n      <th></th>\n      <th></th>\n      <th></th>\n      <th></th>\n      <th></th>\n      <th></th>\n      <th></th>\n      <th></th>\n      <th></th>\n      <th></th>\n      <th></th>\n    </tr>\n  </thead>\n  <tbody>\n    <tr>\n      <th>0</th>\n      <td>-1</td>\n      <td>700</td>\n      <td>-1</td>\n      <td>-1</td>\n      <td>707</td>\n      <td>-1</td>\n      <td>-1</td>\n      <td>-1</td>\n      <td>-1</td>\n      <td>707</td>\n      <td>...</td>\n      <td>-1</td>\n      <td>-1</td>\n      <td>-1</td>\n      <td>-1</td>\n      <td>-1</td>\n      <td>-1</td>\n      <td>-1</td>\n      <td>-1</td>\n      <td>-1</td>\n      <td>-1</td>\n    </tr>\n    <tr>\n      <th>1</th>\n      <td>700</td>\n      <td>-1</td>\n      <td>-1</td>\n      <td>-1</td>\n      <td>-1</td>\n      <td>-1</td>\n      <td>-1</td>\n      <td>-1</td>\n      <td>-1</td>\n      <td>-1</td>\n      <td>...</td>\n      <td>0</td>\n      <td>-1</td>\n      <td>-1</td>\n      <td>-1</td>\n      <td>0</td>\n      <td>-1</td>\n      <td>-1</td>\n      <td>-1</td>\n      <td>-1</td>\n      <td>-1</td>\n    </tr>\n    <tr>\n      <th>2</th>\n      <td>-1</td>\n      <td>-1</td>\n      <td>-1</td>\n      <td>203</td>\n      <td>-1</td>\n      <td>-1</td>\n      <td>202</td>\n      <td>-1</td>\n      <td>-1</td>\n      <td>-1</td>\n      <td>...</td>\n      <td>-1</td>\n      <td>202</td>\n      <td>-1</td>\n      <td>-1</td>\n      <td>-1</td>\n      <td>-1</td>\n      <td>-1</td>\n      <td>-1</td>\n      <td>-1</td>\n      <td>-1</td>\n    </tr>\n    <tr>\n      <th>3</th>\n      <td>-1</td>\n      <td>-1</td>\n      <td>203</td>\n      <td>-1</td>\n      <td>-1</td>\n      <td>303</td>\n      <td>-1</td>\n      <td>-1</td>\n      <td>-1</td>\n      <td>-1</td>\n      <td>...</td>\n      <td>-1</td>\n      <td>-1</td>\n      <td>-1</td>\n      <td>-1</td>\n      <td>-1</td>\n      <td>-1</td>\n      <td>-1</td>\n      <td>-1</td>\n      <td>-1</td>\n      <td>-1</td>\n    </tr>\n    <tr>\n      <th>4</th>\n      <td>707</td>\n      <td>-1</td>\n      <td>-1</td>\n      <td>-1</td>\n      <td>-1</td>\n      <td>703</td>\n      <td>-1</td>\n      <td>-1</td>\n      <td>-1</td>\n      <td>707</td>\n      <td>...</td>\n      <td>-1</td>\n      <td>-1</td>\n      <td>-1</td>\n      <td>708</td>\n      <td>-1</td>\n      <td>-1</td>\n      <td>-1</td>\n      <td>-1</td>\n      <td>-1</td>\n      <td>-1</td>\n    </tr>\n  </tbody>\n</table>\n<p>5 rows × 115 columns</p>\n</div>"
     },
     "execution_count": 6,
     "metadata": {},
     "output_type": "execute_result"
    }
   ],
   "source": [
    "graph_matrix_df.head()"
   ],
   "metadata": {
    "collapsed": false
   }
  },
  {
   "cell_type": "code",
   "execution_count": null,
   "outputs": [],
   "source": [],
   "metadata": {
    "collapsed": false
   }
  }
 ],
 "metadata": {
  "kernelspec": {
   "display_name": "Python 3",
   "language": "python",
   "name": "python3"
  },
  "language_info": {
   "codemirror_mode": {
    "name": "ipython",
    "version": 2
   },
   "file_extension": ".py",
   "mimetype": "text/x-python",
   "name": "python",
   "nbconvert_exporter": "python",
   "pygments_lexer": "ipython2",
   "version": "2.7.6"
  }
 },
 "nbformat": 4,
 "nbformat_minor": 0
}
